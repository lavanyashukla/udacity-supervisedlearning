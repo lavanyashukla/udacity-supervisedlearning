{
 "cells": [
  {
   "cell_type": "markdown",
   "metadata": {},
   "source": [
    "# Machine Learning Engineer Nanodegree\n",
    "## Supervised Learning\n",
    "## Project: Building a Student Intervention System"
   ]
  },
  {
   "cell_type": "markdown",
   "metadata": {},
   "source": [
    "Welcome to the second project of the Machine Learning Engineer Nanodegree! In this notebook, some template code has already been provided for you, and it will be your job to implement the additional functionality necessary to successfully complete this project. Sections that begin with **'Implementation'** in the header indicate that the following block of code will require additional functionality which you must provide. Instructions will be provided for each section and the specifics of the implementation are marked in the code block with a `'TODO'` statement. Please be sure to read the instructions carefully!\n",
    "\n",
    "In addition to implementing code, there will be questions that you must answer which relate to the project and your implementation. Each section where you will answer a question is preceded by a **'Question X'** header. Carefully read each question and provide thorough answers in the following text boxes that begin with **'Answer:'**. Your project submission will be evaluated based on your answers to each of the questions and the implementation you provide.  \n",
    "\n",
    ">**Note:** Code and Markdown cells can be executed using the **Shift + Enter** keyboard shortcut. In addition, Markdown cells can be edited by typically double-clicking the cell to enter edit mode."
   ]
  },
  {
   "cell_type": "markdown",
   "metadata": {},
   "source": [
    "### Question 1 - Classification vs. Regression\n",
    "*Your goal for this project is to identify students who might need early intervention before they fail to graduate. Which type of supervised learning problem is this, classification or regression? Why?*"
   ]
  },
  {
   "cell_type": "markdown",
   "metadata": {},
   "source": [
    "**Answer: **\n",
    "This is a classification problem because the goal here is to pick from one of finite (in this case 2) set of outcomes, based on a set of features. We only have 2 discrete outcomes - needs intervention or doesn't. Regression on the other hand is applied to problems that require continuous, numerical answers. In regression, there is a measure of distance between the different outcomes, so there is a degree of \"wrongness\" in answers (for e.g. when predicting the price of an item, if the right answer is 500, a prediction of 490 is a better answer than a 1000). In classification all wrong predictions are equally wrong (for e.g. a blue dress classified as yellow is as bad as one classified as red). In our problem, rather than have a spectrum, we assume a clear distinction between needs intervention, and not, which conclusively makes this a classification problem."
   ]
  },
  {
   "cell_type": "markdown",
   "metadata": {},
   "source": [
    "## Exploring the Data\n",
    "Run the code cell below to load necessary Python libraries and load the student data. Note that the last column from this dataset, `'passed'`, will be our target label (whether the student graduated or didn't graduate). All other columns are features about each student."
   ]
  },
  {
   "cell_type": "code",
   "execution_count": 62,
   "metadata": {},
   "outputs": [
    {
     "name": "stdout",
     "output_type": "stream",
     "text": [
      "Student data read successfully!\n"
     ]
    }
   ],
   "source": [
    "# Import libraries\n",
    "import numpy as np\n",
    "import pandas as pd\n",
    "from time import time\n",
    "from sklearn.metrics import f1_score\n",
    "\n",
    "# Read student data\n",
    "student_data = pd.read_csv(\"student-data.csv\")\n",
    "print \"Student data read successfully!\""
   ]
  },
  {
   "cell_type": "code",
   "execution_count": 63,
   "metadata": {},
   "outputs": [
    {
     "name": "stdout",
     "output_type": "stream",
     "text": [
      "\n",
      "--------------- Shape:\n",
      "\n",
      "(395, 31)\n",
      "\n",
      "\n",
      "\n",
      "\n",
      "--------------- Head:\n",
      "\n",
      "  school sex  age address famsize Pstatus  Medu  Fedu     Mjob      Fjob  \\\n",
      "0     GP   F   18       U     GT3       A     4     4  at_home   teacher   \n",
      "1     GP   F   17       U     GT3       T     1     1  at_home     other   \n",
      "2     GP   F   15       U     LE3       T     1     1  at_home     other   \n",
      "3     GP   F   15       U     GT3       T     4     2   health  services   \n",
      "4     GP   F   16       U     GT3       T     3     3    other     other   \n",
      "\n",
      "   ...   internet romantic  famrel  freetime  goout Dalc Walc health absences  \\\n",
      "0  ...         no       no       4         3      4    1    1      3        6   \n",
      "1  ...        yes       no       5         3      3    1    1      3        4   \n",
      "2  ...        yes       no       4         3      2    2    3      3       10   \n",
      "3  ...        yes      yes       3         2      2    1    1      5        2   \n",
      "4  ...         no       no       4         3      2    1    2      5        4   \n",
      "\n",
      "  passed  \n",
      "0     no  \n",
      "1     no  \n",
      "2    yes  \n",
      "3    yes  \n",
      "4    yes  \n",
      "\n",
      "[5 rows x 31 columns]\n",
      "\n",
      "\n",
      "\n",
      "\n",
      "--------------- Describe:\n",
      "\n",
      "              age        Medu        Fedu  traveltime   studytime    failures  \\\n",
      "count  395.000000  395.000000  395.000000  395.000000  395.000000  395.000000   \n",
      "mean    16.696203    2.749367    2.521519    1.448101    2.035443    0.334177   \n",
      "std      1.276043    1.094735    1.088201    0.697505    0.839240    0.743651   \n",
      "min     15.000000    0.000000    0.000000    1.000000    1.000000    0.000000   \n",
      "25%     16.000000    2.000000    2.000000    1.000000    1.000000    0.000000   \n",
      "50%     17.000000    3.000000    2.000000    1.000000    2.000000    0.000000   \n",
      "75%     18.000000    4.000000    3.000000    2.000000    2.000000    0.000000   \n",
      "max     22.000000    4.000000    4.000000    4.000000    4.000000    3.000000   \n",
      "\n",
      "           famrel    freetime       goout        Dalc        Walc      health  \\\n",
      "count  395.000000  395.000000  395.000000  395.000000  395.000000  395.000000   \n",
      "mean     3.944304    3.235443    3.108861    1.481013    2.291139    3.554430   \n",
      "std      0.896659    0.998862    1.113278    0.890741    1.287897    1.390303   \n",
      "min      1.000000    1.000000    1.000000    1.000000    1.000000    1.000000   \n",
      "25%      4.000000    3.000000    2.000000    1.000000    1.000000    3.000000   \n",
      "50%      4.000000    3.000000    3.000000    1.000000    2.000000    4.000000   \n",
      "75%      5.000000    4.000000    4.000000    2.000000    3.000000    5.000000   \n",
      "max      5.000000    5.000000    5.000000    5.000000    5.000000    5.000000   \n",
      "\n",
      "         absences  \n",
      "count  395.000000  \n",
      "mean     5.708861  \n",
      "std      8.003096  \n",
      "min      0.000000  \n",
      "25%      0.000000  \n",
      "50%      4.000000  \n",
      "75%      8.000000  \n",
      "max     75.000000  \n",
      "\n",
      "\n",
      "\n",
      "\n",
      "--------------- Groupby Passed:\n",
      "\n",
      "passed\n",
      "no     130\n",
      "yes    265\n",
      "dtype: int64\n"
     ]
    }
   ],
   "source": [
    "# Explore dataset\n",
    "import pandas\n",
    "from pandas.tools.plotting import scatter_matrix\n",
    "import matplotlib.pyplot as plt\n",
    "\n",
    "print(\"\\n--------------- Shape:\\n\")\n",
    "print(student_data.shape)\n",
    "print(\"\\n\\n\\n\\n--------------- Head:\\n\")\n",
    "print student_data.head()\n",
    "print(\"\\n\\n\\n\\n--------------- Describe:\\n\")\n",
    "print(student_data.describe())\n",
    "print(\"\\n\\n\\n\\n--------------- Groupby Passed:\\n\")\n",
    "print(student_data.groupby('passed').size())"
   ]
  },
  {
   "cell_type": "markdown",
   "metadata": {},
   "source": [
    "### Implementation: Data Exploration\n",
    "Let's begin by investigating the dataset to determine how many students we have information on, and learn about the graduation rate among these students. In the code cell below, you will need to compute the following:\n",
    "- The total number of students, `n_students`.\n",
    "- The total number of features for each student, `n_features`.\n",
    "- The number of those students who passed, `n_passed`.\n",
    "- The number of those students who failed, `n_failed`.\n",
    "- The graduation rate of the class, `grad_rate`, in percent (%).\n"
   ]
  },
  {
   "cell_type": "code",
   "execution_count": 64,
   "metadata": {},
   "outputs": [
    {
     "name": "stdout",
     "output_type": "stream",
     "text": [
      "Total number of students: 395\n",
      "Number of features: 31\n",
      "Number of students who passed: 265\n",
      "Number of students who failed: 130\n",
      "Graduation rate of the class: 67.00%\n"
     ]
    }
   ],
   "source": [
    "# TODO: Calculate number of students\n",
    "n_students = student_data.shape[0]\n",
    "\n",
    "# TODO: Calculate number of features\n",
    "n_features = student_data.shape[1]\n",
    "\n",
    "# TODO: Calculate passing students\n",
    "passed = student_data.groupby('passed').size()\n",
    "n_passed = passed['yes']\n",
    "\n",
    "# TODO: Calculate failing students\n",
    "n_failed = passed['no']\n",
    "\n",
    "# TODO: Calculate graduation rate\n",
    "grad_rate = 100*passed['yes']/student_data.shape[0]\n",
    "\n",
    "# Print the results\n",
    "print \"Total number of students: {}\".format(n_students)\n",
    "print \"Number of features: {}\".format(n_features)\n",
    "print \"Number of students who passed: {}\".format(n_passed)\n",
    "print \"Number of students who failed: {}\".format(n_failed)\n",
    "print \"Graduation rate of the class: {:.2f}%\".format(grad_rate)"
   ]
  },
  {
   "cell_type": "markdown",
   "metadata": {},
   "source": [
    "## Preparing the Data\n",
    "In this section, we will prepare the data for modeling, training and testing.\n",
    "\n",
    "### Identify feature and target columns\n",
    "It is often the case that the data you obtain contains non-numeric features. This can be a problem, as most machine learning algorithms expect numeric data to perform computations with.\n",
    "\n",
    "Run the code cell below to separate the student data into feature and target columns to see if any features are non-numeric."
   ]
  },
  {
   "cell_type": "code",
   "execution_count": 65,
   "metadata": {},
   "outputs": [
    {
     "name": "stdout",
     "output_type": "stream",
     "text": [
      "Feature columns:\n",
      "['school', 'sex', 'age', 'address', 'famsize', 'Pstatus', 'Medu', 'Fedu', 'Mjob', 'Fjob', 'reason', 'guardian', 'traveltime', 'studytime', 'failures', 'schoolsup', 'famsup', 'paid', 'activities', 'nursery', 'higher', 'internet', 'romantic', 'famrel', 'freetime', 'goout', 'Dalc', 'Walc', 'health', 'absences']\n",
      "\n",
      "Target column: passed\n",
      "\n",
      "Feature values:\n",
      "  school sex  age address famsize Pstatus  Medu  Fedu     Mjob      Fjob  \\\n",
      "0     GP   F   18       U     GT3       A     4     4  at_home   teacher   \n",
      "1     GP   F   17       U     GT3       T     1     1  at_home     other   \n",
      "2     GP   F   15       U     LE3       T     1     1  at_home     other   \n",
      "3     GP   F   15       U     GT3       T     4     2   health  services   \n",
      "4     GP   F   16       U     GT3       T     3     3    other     other   \n",
      "\n",
      "    ...    higher internet  romantic  famrel  freetime goout Dalc Walc health  \\\n",
      "0   ...       yes       no        no       4         3     4    1    1      3   \n",
      "1   ...       yes      yes        no       5         3     3    1    1      3   \n",
      "2   ...       yes      yes        no       4         3     2    2    3      3   \n",
      "3   ...       yes      yes       yes       3         2     2    1    1      5   \n",
      "4   ...       yes       no        no       4         3     2    1    2      5   \n",
      "\n",
      "  absences  \n",
      "0        6  \n",
      "1        4  \n",
      "2       10  \n",
      "3        2  \n",
      "4        4  \n",
      "\n",
      "[5 rows x 30 columns]\n"
     ]
    }
   ],
   "source": [
    "# Extract feature columns\n",
    "feature_cols = list(student_data.columns[:-1])\n",
    "\n",
    "# Extract target column 'passed'\n",
    "target_col = student_data.columns[-1] \n",
    "\n",
    "# Show the list of columns\n",
    "print \"Feature columns:\\n{}\".format(feature_cols)\n",
    "print \"\\nTarget column: {}\".format(target_col)\n",
    "\n",
    "# Separate the data into feature data and target data (X_all and y_all, respectively)\n",
    "X_all = student_data[feature_cols]\n",
    "y_all = student_data[target_col]\n",
    "\n",
    "# Show the feature information by printing the first five rows\n",
    "print \"\\nFeature values:\"\n",
    "print X_all.head()"
   ]
  },
  {
   "cell_type": "markdown",
   "metadata": {},
   "source": [
    "### Preprocess Feature Columns\n",
    "\n",
    "As you can see, there are several non-numeric columns that need to be converted! Many of them are simply `yes`/`no`, e.g. `internet`. These can be reasonably converted into `1`/`0` (binary) values.\n",
    "\n",
    "Other columns, like `Mjob` and `Fjob`, have more than two values, and are known as _categorical variables_. The recommended way to handle such a column is to create as many columns as possible values (e.g. `Fjob_teacher`, `Fjob_other`, `Fjob_services`, etc.), and assign a `1` to one of them and `0` to all others.\n",
    "\n",
    "These generated columns are sometimes called _dummy variables_, and we will use the [`pandas.get_dummies()`](http://pandas.pydata.org/pandas-docs/stable/generated/pandas.get_dummies.html?highlight=get_dummies#pandas.get_dummies) function to perform this transformation. Run the code cell below to perform the preprocessing routine discussed in this section."
   ]
  },
  {
   "cell_type": "code",
   "execution_count": 66,
   "metadata": {},
   "outputs": [
    {
     "name": "stdout",
     "output_type": "stream",
     "text": [
      "Processed feature columns (48 total features):\n",
      "['school_GP', 'school_MS', 'sex_F', 'sex_M', 'age', 'address_R', 'address_U', 'famsize_GT3', 'famsize_LE3', 'Pstatus_A', 'Pstatus_T', 'Medu', 'Fedu', 'Mjob_at_home', 'Mjob_health', 'Mjob_other', 'Mjob_services', 'Mjob_teacher', 'Fjob_at_home', 'Fjob_health', 'Fjob_other', 'Fjob_services', 'Fjob_teacher', 'reason_course', 'reason_home', 'reason_other', 'reason_reputation', 'guardian_father', 'guardian_mother', 'guardian_other', 'traveltime', 'studytime', 'failures', 'schoolsup', 'famsup', 'paid', 'activities', 'nursery', 'higher', 'internet', 'romantic', 'famrel', 'freetime', 'goout', 'Dalc', 'Walc', 'health', 'absences']\n",
      "\n",
      "Feature values:\n",
      "   school_GP  school_MS  sex_F  sex_M  age  address_R  address_U  famsize_GT3  \\\n",
      "0          1          0      1      0   18          0          1            1   \n",
      "1          1          0      1      0   17          0          1            1   \n",
      "2          1          0      1      0   15          0          1            0   \n",
      "3          1          0      1      0   15          0          1            1   \n",
      "4          1          0      1      0   16          0          1            1   \n",
      "\n",
      "   famsize_LE3  Pstatus_A    ...     higher  internet  romantic  famrel  \\\n",
      "0            0          1    ...          1         0         0       4   \n",
      "1            0          0    ...          1         1         0       5   \n",
      "2            1          0    ...          1         1         0       4   \n",
      "3            0          0    ...          1         1         1       3   \n",
      "4            0          0    ...          1         0         0       4   \n",
      "\n",
      "   freetime  goout  Dalc  Walc  health  absences  \n",
      "0         3      4     1     1       3         6  \n",
      "1         3      3     1     1       3         4  \n",
      "2         3      2     2     3       3        10  \n",
      "3         2      2     1     1       5         2  \n",
      "4         3      2     1     2       5         4  \n",
      "\n",
      "[5 rows x 48 columns]\n"
     ]
    }
   ],
   "source": [
    "def preprocess_features(X):\n",
    "    ''' Preprocesses the student data and converts non-numeric binary variables into\n",
    "        binary (0/1) variables. Converts categorical variables into dummy variables. '''\n",
    "    \n",
    "    # Initialize new output DataFrame\n",
    "    output = pd.DataFrame(index = X.index)\n",
    "\n",
    "    # Investigate each feature column for the data\n",
    "    for col, col_data in X.iteritems():\n",
    "        \n",
    "        # If data type is non-numeric, replace all yes/no values with 1/0\n",
    "        if col_data.dtype == object:\n",
    "            col_data = col_data.replace(['yes', 'no'], [1, 0])\n",
    "\n",
    "        # If data type is categorical, convert to dummy variables\n",
    "        if col_data.dtype == object:\n",
    "            # Example: 'school' => 'school_GP' and 'school_MS'\n",
    "            col_data = pd.get_dummies(col_data, prefix = col)  \n",
    "        \n",
    "        # Collect the revised columns\n",
    "        output = output.join(col_data)\n",
    "    \n",
    "    return output\n",
    "\n",
    "X_all = preprocess_features(X_all)\n",
    "print \"Processed feature columns ({} total features):\\n{}\".format(len(X_all.columns), list(X_all.columns))\n",
    "\n",
    "# Show the feature information by printing the first five rows\n",
    "print \"\\nFeature values:\"\n",
    "print X_all.head()"
   ]
  },
  {
   "cell_type": "code",
   "execution_count": 67,
   "metadata": {
    "collapsed": true
   },
   "outputs": [],
   "source": [
    "from pandas.tools.plotting import scatter_matrix\n",
    "import matplotlib.pyplot as plt"
   ]
  },
  {
   "cell_type": "markdown",
   "metadata": {},
   "source": [
    "### Implementation: Training and Testing Data Split\n",
    "So far, we have converted all _categorical_ features into numeric values. For the next step, we split the data (both features and corresponding labels) into training and test sets. In the following code cell below, you will need to implement the following:\n",
    "- Randomly shuffle and split the data (`X_all`, `y_all`) into training and testing subsets.\n",
    "  - Use 300 training points (approximately 75%) and 95 testing points (approximately 25%).\n",
    "  - Set a `random_state` for the function(s) you use, if provided.\n",
    "  - Store the results in `X_train`, `X_test`, `y_train`, and `y_test`."
   ]
  },
  {
   "cell_type": "code",
   "execution_count": 68,
   "metadata": {},
   "outputs": [
    {
     "name": "stdout",
     "output_type": "stream",
     "text": [
      "Training set has 300 samples.\n",
      "Testing set has 95 samples.\n"
     ]
    }
   ],
   "source": [
    "# TODO: Import any additional functionality you may need here\n",
    "from sklearn import cross_validation\n",
    "\n",
    "# TODO: Set the number of training points\n",
    "num_train = 300\n",
    "\n",
    "# Set the number of testing points\n",
    "num_test = X_all.shape[0] - num_train\n",
    "\n",
    "# TODO: Shuffle and split the dataset into the number of training and testing points above\n",
    "X_train,X_test,y_train,y_test = cross_validation.train_test_split(X_all,y_all,test_size = num_test, random_state = 24)\n",
    "\n",
    "# Show the results of the split\n",
    "print \"Training set has {} samples.\".format(X_train.shape[0])\n",
    "print \"Testing set has {} samples.\".format(X_test.shape[0])"
   ]
  },
  {
   "cell_type": "markdown",
   "metadata": {},
   "source": [
    "## Training and Evaluating Models\n",
    "In this section, you will choose 3 supervised learning models that are appropriate for this problem and available in `scikit-learn`. You will first discuss the reasoning behind choosing these three models by considering what you know about the data and each model's strengths and weaknesses. You will then fit the model to varying sizes of training data (100 data points, 200 data points, and 300 data points) and measure the F<sub>1</sub> score. You will need to produce three tables (one for each model) that shows the training set size, training time, prediction time, F<sub>1</sub> score on the training set, and F<sub>1</sub> score on the testing set.\n",
    "\n",
    "**The following supervised learning models are currently available in** [`scikit-learn`](http://scikit-learn.org/stable/supervised_learning.html) **that you may choose from:**\n",
    "- Gaussian Naive Bayes (GaussianNB)\n",
    "- Decision Trees\n",
    "- Ensemble Methods (Bagging, AdaBoost, Random Forest, Gradient Boosting)\n",
    "- K-Nearest Neighbors (KNeighbors)\n",
    "- Stochastic Gradient Descent (SGDC)\n",
    "- Support Vector Machines (SVM)\n",
    "- Logistic Regression"
   ]
  },
  {
   "cell_type": "markdown",
   "metadata": {},
   "source": [
    "### Question 2 - Model Application\n",
    "*List three supervised learning models that are appropriate for this problem. For each model chosen*\n",
    "- Describe one real-world application in industry where the model can be applied. *(You may need to do a small bit of research for this — give references!)* \n",
    "- What are the strengths of the model; when does it perform well? \n",
    "- What are the weaknesses of the model; when does it perform poorly?\n",
    "- What makes this model a good candidate for the problem, given what you know about the data?"
   ]
  },
  {
   "cell_type": "code",
   "execution_count": 69,
   "metadata": {},
   "outputs": [
    {
     "name": "stdout",
     "output_type": "stream",
     "text": [
      "NB: 0.616667 (0.063683)\n",
      "DT: 0.670000 (0.065744)\n",
      "E-RF: 0.660000 (0.059255)\n",
      "E-BC: 0.663333 (0.072188)\n",
      "E-AB: 0.663333 (0.079512)\n",
      "E-GB: 0.680000 (0.047610)\n",
      "KNN: 0.693333 (0.053333)\n",
      "SGDC: 0.646667 (0.070238)\n",
      "SVM: 0.696667 (0.048189)\n",
      "LR: 0.683333 (0.077817)\n"
     ]
    },
    {
     "data": {
      "image/png": "[encoded data removed]",
      "text/plain": [
       "<matplotlib.figure.Figure at 0x1148df650>"
      ]
     },
     "metadata": {},
     "output_type": "display_data"
    }
   ],
   "source": [
    "import pandas\n",
    "from sklearn import model_selection\n",
    "from sklearn.metrics import classification_report\n",
    "from sklearn.metrics import confusion_matrix\n",
    "from sklearn.metrics import accuracy_score\n",
    "from sklearn.linear_model import SGDClassifier\n",
    "from sklearn.ensemble import BaggingClassifier\n",
    "from sklearn.ensemble import AdaBoostClassifier\n",
    "from sklearn.linear_model import LogisticRegression\n",
    "from sklearn.tree import DecisionTreeClassifier\n",
    "from sklearn.ensemble import RandomForestClassifier\n",
    "from sklearn.neighbors import KNeighborsClassifier\n",
    "from sklearn.naive_bayes import GaussianNB\n",
    "from sklearn.ensemble import GradientBoostingClassifier\n",
    "from sklearn.svm import SVC\n",
    "\n",
    "# Supervised Algos To Test\n",
    "models = []\n",
    "scores = []\n",
    "print_model = []\n",
    "\n",
    "\n",
    "models.append(('NB', GaussianNB()))\n",
    "models.append(('DT', DecisionTreeClassifier()))\n",
    "models.append(('E-RF', RandomForestClassifier()))\n",
    "models.append(('E-BC', BaggingClassifier()))\n",
    "models.append(('E-AB', AdaBoostClassifier()))\n",
    "models.append(('E-GB', GradientBoostingClassifier()))\n",
    "models.append(('KNN', KNeighborsClassifier()))\n",
    "models.append(('SGDC', SGDClassifier()))\n",
    "models.append(('SVM', SVC()))\n",
    "models.append(('LR', LogisticRegression()))\n",
    "\n",
    "for toprint, model in models:\n",
    "\tkfold = model_selection.KFold(n_splits=10, random_state=24)\n",
    "\tcv = model_selection.cross_val_score(model, X_train, y_train, cv=kfold, scoring='accuracy')\n",
    "\tscores.append(cv)\n",
    "\tprint_model.append(toprint)\n",
    "\tmsg = \"%s: %f (%f)\" % (toprint, cv.mean(), cv.std())\n",
    "\tprint(msg)\n",
    "    \n",
    "\n",
    "# Scores from running CV with 5, 10, 20, 25, 30 folds respectively\n",
    "''' 5 fold\n",
    "LR: 0.676667 (0.069602)\n",
    "KNN: 0.680000 (0.016330)\n",
    "SGDC: 0.590000 (0.150407)\n",
    "CART: 0.626667 (0.048990)\n",
    "NB: 0.636667 (0.028674)\n",
    "E-RF: 0.633333 (0.039441)\n",
    "E-BC: 0.663333 (0.045216)\n",
    "E-AB: 0.673333 (0.024944)\n",
    "E-GB: 0.680000 (0.048762)\n",
    "SVM: 0.700000 (0.058689)\n",
    "'''\n",
    "\n",
    "''' 10 fold\n",
    "LR: 0.683333 (0.077817) <--\n",
    "KNN: 0.693333 (0.053333) <--\n",
    "SGDC: 0.616667 (0.124052)\n",
    "CART: 0.660000 (0.074237)\n",
    "NB: 0.616667 (0.063683)\n",
    "E-RF: 0.650000 (0.104616)\n",
    "E-BC: 0.686667 (0.030551)\n",
    "E-AB: 0.663333 (0.079512)\n",
    "E-GB: 0.683333 (0.050000)\n",
    "SVM: 0.696667 (0.048189) <--\n",
    "'''\n",
    "\n",
    "''' 20 fold\n",
    "LR: 0.680000 (0.132665)\n",
    "KNN: 0.693333 (0.112349)\n",
    "SGDC: 0.603333 (0.193764)\n",
    "CART: 0.663333 (0.154164)\n",
    "NB: 0.626667 (0.137275)\n",
    "E-RF: 0.660000 (0.133167)\n",
    "E-BC: 0.670000 (0.130767)\n",
    "E-AB: 0.663333 (0.151254)\n",
    "E-GB: 0.676667 (0.121610)\n",
    "SVM: 0.700000 (0.110554)\n",
    "'''\n",
    "\n",
    "''' 25 fold\n",
    "LR: 0.686667 (0.147723)\n",
    "KNN: 0.690000 (0.123648)\n",
    "SGDC: 0.626667 (0.154776)\n",
    "CART: 0.646667 (0.141970)\n",
    "NB: 0.643333 (0.101434)\n",
    "E-RF: 0.596667 (0.146591)\n",
    "E-BC: 0.670000 (0.118977)\n",
    "E-AB: 0.650000 (0.137437)\n",
    "E-GB: 0.686667 (0.106145)\n",
    "SVM: 0.693333 (0.132749)\n",
    "'''\n",
    "\n",
    "''' 30 fold\n",
    "LR: 0.676667 (0.166700)\n",
    "KNN: 0.696667 (0.125122)\n",
    "SGDC: 0.570000 (0.188237)\n",
    "CART: 0.640000 (0.147422)\n",
    "NB: 0.633333 (0.122020)\n",
    "E-RF: 0.613333 (0.160693)\n",
    "E-BC: 0.666667 (0.127366)\n",
    "E-AB: 0.673333 (0.150407)\n",
    "E-GB: 0.680000 (0.124900)\n",
    "SVM: 0.693333 (0.133998)\n",
    "'''\n",
    "\n",
    "# Plotting accuracy scores from our classifiers\n",
    "fig = plt.figure()\n",
    "fig.suptitle('Picking a Supervised Algo')\n",
    "afig = fig.add_subplot(111)\n",
    "plt.boxplot(scores)\n",
    "afig.set_xticklabels(print_model)\n",
    "plt.show()"
   ]
  },
  {
   "cell_type": "markdown",
   "metadata": {},
   "source": [
    "**Answer: **\n",
    "- **KNN**: KNN seems to score 2nd best at our preliminary test with an accuracy score of 0.693333. KNN is great because it is robust to noise in data, trains very fast, doesn't make assumptions about underlying data because it is non-parametric, and it can also detect both linear and non-linear boundaries. But KNN it also prone to overfitting, is sensitive to outliers, takes up a lot of space because it can't throw away data after learning a model, and is slow during querying. KNN is used in facial recognition, for e.g. by companies like Herta Security, which first generates feature vectors representations of people's faces using deep learning, then use KNN to compare these vectors to watch lists and thus identify people without needing to train classifiers for each person's face.\n",
    "    \n",
    "- **SVM**: SVM performed the best with an accuracy score of 0.696667. SVMs work great in domains with lots of features and complicated underlying structures (and in cases with dimensions > # of training samples). They are not affected by outliers, have theoretical bounds on overfitting, can produce non-linear classifications, and are memory efficient because they use only a subset of the datatset in their decision functions. But SVMs don't work for large datasets (which is okay because we have a small dataset) and in cases with a ton of noise (our dataset doesn't have much noise), and it can be hard to interpret the resulting models. It is also hard to choose the right kernel and parameters, tuning these parameters is very important in order to avoid overfitting, and takes up time (we can use GridSearch to overcome this). SVMs are used for predicting diseases like diabetes in patients (as seen https://bmcmedinformdecismak.biomedcentral.com/articles/10.1186/1472-6947-10-16), in detecing gender in images, spam filtering, display advertising etc.\n",
    "    \n",
    "- **Logistic Regression**: Logistic Regression was the 3rd best score above, performing at 0.683333. LR is great because it is fast to train and predict, it outputs probabilities, it is indifferent to noise in training data, doesn't need parameters to be tweaked, and doesn't make assumptions about the underlying dataset. But it only produces linear decision boundaries, is less accurate than newer methods, and its theta is hard to interpret. LR is used in spam classification, predicting product revenues, calculating credit scores, predicting if a person is depressed based on a bag of words, portfolio loss forecasting, customer retention (http://www.lexjansen.com/nesug/nesug98/solu/p095.pdf) etc."
   ]
  },
  {
   "cell_type": "markdown",
   "metadata": {},
   "source": [
    "### Setup\n",
    "Run the code cell below to initialize three helper functions which you can use for training and testing the three supervised learning models you've chosen above. The functions are as follows:\n",
    "- `train_classifier` - takes as input a classifier and training data and fits the classifier to the data.\n",
    "- `predict_labels` - takes as input a fit classifier, features, and a target labeling and makes predictions using the F<sub>1</sub> score.\n",
    "- `train_predict` - takes as input a classifier, and the training and testing data, and performs `train_clasifier` and `predict_labels`.\n",
    " - This function will report the F<sub>1</sub> score for both the training and testing data separately."
   ]
  },
  {
   "cell_type": "code",
   "execution_count": 70,
   "metadata": {
    "collapsed": true
   },
   "outputs": [],
   "source": [
    "def train_classifier(clf, X_train, y_train):\n",
    "    ''' Fits a classifier to the training data. '''\n",
    "    \n",
    "    # Start the clock, train the classifier, then stop the clock\n",
    "    start = time()\n",
    "    clf.fit(X_train, y_train)\n",
    "    end = time()\n",
    "    \n",
    "    # Print the results\n",
    "    print \"Trained model in {:.4f} seconds\".format(end - start)\n",
    "\n",
    "    \n",
    "def predict_labels(clf, features, target):\n",
    "    ''' Makes predictions using a fit classifier based on F1 score. '''\n",
    "    \n",
    "    # Start the clock, make predictions, then stop the clock\n",
    "    start = time()\n",
    "    y_pred = clf.predict(features)\n",
    "    end = time()\n",
    "    \n",
    "    # Print and return results\n",
    "    print \"Made predictions in {:.4f} seconds.\".format(end - start)\n",
    "    return f1_score(target.values, y_pred, pos_label='yes')\n",
    "\n",
    "\n",
    "def train_predict(clf, X_train, y_train, X_test, y_test):\n",
    "    ''' Train and predict using a classifer based on F1 score. '''\n",
    "    \n",
    "    # Indicate the classifier and the training set size\n",
    "    print \"Training a {} using a training set size of {}. . .\".format(clf.__class__.__name__, len(X_train))\n",
    "    \n",
    "    # Train the classifier\n",
    "    train_classifier(clf, X_train, y_train)\n",
    "    \n",
    "    # Print the results of prediction for both training and testing\n",
    "    print \"F1 score for training set: {:.4f}.\".format(predict_labels(clf, X_train, y_train))\n",
    "    print \"F1 score for test set: {:.4f}.\".format(predict_labels(clf, X_test, y_test))"
   ]
  },
  {
   "cell_type": "markdown",
   "metadata": {},
   "source": [
    "### Implementation: Model Performance Metrics\n",
    "With the predefined functions above, you will now import the three supervised learning models of your choice and run the `train_predict` function for each one. Remember that you will need to train and predict on each classifier for three different training set sizes: 100, 200, and 300. Hence, you should expect to have 9 different outputs below — 3 for each model using the varying training set sizes. In the following code cell, you will need to implement the following:\n",
    "- Import the three supervised learning models you've discussed in the previous section.\n",
    "- Initialize the three models and store them in `clf_A`, `clf_B`, and `clf_C`.\n",
    " - Use a `random_state` for each model you use, if provided.\n",
    " - **Note:** Use the default settings for each model — you will tune one specific model in a later section.\n",
    "- Create the different training set sizes to be used to train each model.\n",
    " - *Do not reshuffle and resplit the data! The new training points should be drawn from `X_train` and `y_train`.*\n",
    "- Fit each model with each training set size and make predictions on the test set (9 in total).  \n",
    "**Note:** Three tables are provided after the following code cell which can be used to store your results."
   ]
  },
  {
   "cell_type": "code",
   "execution_count": 71,
   "metadata": {},
   "outputs": [
    {
     "name": "stdout",
     "output_type": "stream",
     "text": [
      "Training a SVC using a training set size of 100. . .\n",
      "Trained model in 0.0022 seconds\n",
      "Made predictions in 0.0030 seconds.\n",
      "F1 score for training set: 0.8263.\n",
      "Made predictions in 0.0014 seconds.\n",
      "F1 score for test set: 0.8199.\n",
      "\n",
      "----------\n",
      "\n",
      "Training a SVC using a training set size of 200. . .\n",
      "Trained model in 0.0057 seconds\n",
      "Made predictions in 0.0044 seconds.\n",
      "F1 score for training set: 0.8515.\n",
      "Made predictions in 0.0017 seconds.\n",
      "F1 score for test set: 0.8188.\n",
      "\n",
      "----------\n",
      "\n",
      "Training a SVC using a training set size of 300. . .\n",
      "Trained model in 0.0101 seconds\n",
      "Made predictions in 0.0063 seconds.\n",
      "F1 score for training set: 0.8559.\n",
      "Made predictions in 0.0021 seconds.\n",
      "F1 score for test set: 0.8108.\n",
      "\n",
      "\n",
      "----------------------------------\n",
      "\n",
      "\n",
      "Training a KNeighborsClassifier using a training set size of 100. . .\n",
      "Trained model in 0.0009 seconds\n",
      "Made predictions in 0.0020 seconds.\n",
      "F1 score for training set: 0.8344.\n",
      "Made predictions in 0.0019 seconds.\n",
      "F1 score for test set: 0.7619.\n",
      "\n",
      "----------\n",
      "\n",
      "Training a KNeighborsClassifier using a training set size of 200. . .\n",
      "Trained model in 0.0008 seconds\n",
      "Made predictions in 0.0036 seconds.\n",
      "F1 score for training set: 0.8481.\n",
      "Made predictions in 0.0032 seconds.\n",
      "F1 score for test set: 0.8000.\n",
      "\n",
      "----------\n",
      "\n",
      "Training a KNeighborsClassifier using a training set size of 300. . .\n",
      "Trained model in 0.0013 seconds\n",
      "Made predictions in 0.0099 seconds.\n",
      "F1 score for training set: 0.8591.\n",
      "Made predictions in 0.0061 seconds.\n",
      "F1 score for test set: 0.7972.\n",
      "\n",
      "\n",
      "----------------------------------\n",
      "\n",
      "\n",
      "Training a LogisticRegression using a training set size of 100. . .\n",
      "Trained model in 0.0020 seconds\n",
      "Made predictions in 0.0017 seconds.\n",
      "F1 score for training set: 0.8966.\n",
      "Made predictions in 0.0046 seconds.\n",
      "F1 score for test set: 0.7914.\n",
      "\n",
      "----------\n",
      "\n",
      "Training a LogisticRegression using a training set size of 200. . .\n",
      "Trained model in 0.0033 seconds\n",
      "Made predictions in 0.0006 seconds.\n",
      "F1 score for training set: 0.8498.\n",
      "Made predictions in 0.0009 seconds.\n",
      "F1 score for test set: 0.7852.\n",
      "\n",
      "----------\n",
      "\n",
      "Training a LogisticRegression using a training set size of 300. . .\n",
      "Trained model in 0.0037 seconds\n",
      "Made predictions in 0.0004 seconds.\n",
      "F1 score for training set: 0.8353.\n",
      "Made predictions in 0.0003 seconds.\n",
      "F1 score for test set: 0.8000.\n",
      "\n",
      "\n",
      "----------------------------------\n",
      "\n",
      "\n",
      "Training a BaggingClassifier using a training set size of 100. . .\n",
      "Trained model in 0.0379 seconds\n",
      "Made predictions in 0.0024 seconds.\n",
      "F1 score for training set: 0.9853.\n",
      "Made predictions in 0.0023 seconds.\n",
      "F1 score for test set: 0.7313.\n",
      "\n",
      "----------\n",
      "\n",
      "Training a BaggingClassifier using a training set size of 200. . .\n",
      "Trained model in 0.0388 seconds\n",
      "Made predictions in 0.0029 seconds.\n",
      "F1 score for training set: 0.9922.\n",
      "Made predictions in 0.0027 seconds.\n",
      "F1 score for test set: 0.7481.\n",
      "\n",
      "----------\n",
      "\n",
      "Training a BaggingClassifier using a training set size of 300. . .\n",
      "Trained model in 0.0545 seconds\n",
      "Made predictions in 0.0043 seconds.\n",
      "F1 score for training set: 0.9825.\n",
      "Made predictions in 0.0037 seconds.\n",
      "F1 score for test set: 0.7097.\n"
     ]
    }
   ],
   "source": [
    "# TODO: Import the three supervised learning models from sklearn\n",
    "# from sklearn import model_A\n",
    "# from sklearn import model_B\n",
    "# from sklearn import model_C\n",
    "\n",
    "# TODO: Initialize the three models\n",
    "clf_A = SVC()\n",
    "clf_B = KNeighborsClassifier()\n",
    "clf_C = LogisticRegression()\n",
    "clf_D = BaggingClassifier()\n",
    "\n",
    "# TODO: Set up the training set sizes\n",
    "X_train_100 = X_train[:100]\n",
    "y_train_100 = y_train[:100]\n",
    "\n",
    "X_train_200 = X_train[:200]\n",
    "y_train_200 = y_train[:200]\n",
    "\n",
    "X_train_300 = X_train[:300]\n",
    "y_train_300 = y_train[:300]\n",
    "\n",
    "# TODO: Execute the 'train_predict' function for each classifier and each training set size\n",
    "# train_predict(clf, X_train, y_train, X_test, y_test)\n",
    "train_predict(clf_A, X_train_100, y_train_100, X_test, y_test)\n",
    "print (\"\\n----------\\n\")\n",
    "train_predict(clf_A, X_train_200, y_train_200, X_test, y_test)\n",
    "print (\"\\n----------\\n\")\n",
    "train_predict(clf_A, X_train_300, y_train_300, X_test, y_test)\n",
    "\n",
    "print (\"\\n\\n----------------------------------\\n\\n\")\n",
    "\n",
    "train_predict(clf_B, X_train_100, y_train_100, X_test, y_test)\n",
    "print (\"\\n----------\\n\")\n",
    "train_predict(clf_B, X_train_200, y_train_200, X_test, y_test)\n",
    "print (\"\\n----------\\n\")\n",
    "train_predict(clf_B, X_train_300, y_train_300, X_test, y_test)\n",
    "\n",
    "print (\"\\n\\n----------------------------------\\n\\n\")\n",
    "\n",
    "train_predict(clf_C, X_train_100, y_train_100, X_test, y_test)\n",
    "print (\"\\n----------\\n\")\n",
    "train_predict(clf_C, X_train_200, y_train_200, X_test, y_test)\n",
    "print (\"\\n----------\\n\")\n",
    "train_predict(clf_C, X_train_300, y_train_300, X_test, y_test)\n",
    "\n",
    "print (\"\\n\\n----------------------------------\\n\\n\")\n",
    "\n",
    "train_predict(clf_D, X_train_100, y_train_100, X_test, y_test)\n",
    "print (\"\\n----------\\n\")\n",
    "train_predict(clf_D, X_train_200, y_train_200, X_test, y_test)\n",
    "print (\"\\n----------\\n\")\n",
    "train_predict(clf_D, X_train_300, y_train_300, X_test, y_test)"
   ]
  },
  {
   "cell_type": "markdown",
   "metadata": {},
   "source": [
    "### Tabular Results\n",
    "Edit the cell below to see how a table can be designed in [Markdown](https://github.com/adam-p/markdown-here/wiki/Markdown-Cheatsheet#tables). You can record your results from above in the tables provided."
   ]
  },
  {
   "cell_type": "markdown",
   "metadata": {},
   "source": [
    "** Classifer 1 - SVM**  \n",
    "\n",
    "| Training Set Size | Training Time | Prediction Time (test) | F1 Score (train) | F1 Score (test) |\n",
    "| :---------------: | :---------------------: | :--------------------: | :--------------: | :-------------: |\n",
    "| 100               |        0.0024           |          0.0013              |      0.8263            |     0.8199            |\n",
    "| 200               |        0.0081          |            0.0044            |        0.8515          |     0.8188            |\n",
    "| 300               |          0.0129               |          0.0036              |       0.8559           |   0.8108      |\n",
    "\n",
    "** Classifer 2 - KNN**  \n",
    "\n",
    "| Training Set Size | Training Time | Prediction Time (test) | F1 Score (train) | F1 Score (test) |\n",
    "| :---------------: | :---------------------: | :--------------------: | :--------------: | :-------------: |\n",
    "| 100               |          0.0010               |         0.0044               |         0.8344         |      0.7619           |\n",
    "| 200               |        0.0012          |           0.0087             |          0.8481        |      0.8000           |\n",
    "| 300               |             0.0016            |            0.0071            |          0.8591        |    0.7972      |\n",
    "\n",
    "** Classifer 3 - Logistic Regression**  \n",
    "\n",
    "| Training Set Size | Training Time | Prediction Time (test) | F1 Score (train) | F1 Score (test) |\n",
    "| :---------------: | :---------------------: | :--------------------: | :--------------: | :-------------: |\n",
    "| 100               |            0.0021             |         0.0006               |         0.8966         |    0.7914             |\n",
    "| 200               |             0.0058            |           0.0021             |        0.8498          |      0.7852           |\n",
    "| 300               |              0.0075           |             0.0005           |         0.8353         |   0.8000              |\n"
   ]
  },
  {
   "cell_type": "code",
   "execution_count": 72,
   "metadata": {},
   "outputs": [
    {
     "data": {
      "image/png": "[encoded data removed]",
      "text/plain": [
       "<matplotlib.figure.Figure at 0x113f58cd0>"
      ]
     },
     "metadata": {},
     "output_type": "display_data"
    }
   ],
   "source": [
    "import matplotlib.pyplot as plt_svm\n",
    "fig = plt.figure()\n",
    "x = [100,200,300]\n",
    "y_tr = [0.0024,0.0081,0.0129];\n",
    "y_ts = [0.0013,0.0044,0.0036];\n",
    "plt_svm.plot(x, y_tr)\n",
    "plt_svm.plot(x, y_ts)\n",
    "fig.suptitle('SVM')\n",
    "plt_svm.show()"
   ]
  },
  {
   "cell_type": "code",
   "execution_count": 73,
   "metadata": {},
   "outputs": [
    {
     "data": {
      "image/png": "[encoded data removed]",
      "text/plain": [
       "<matplotlib.figure.Figure at 0x1138870d0>"
      ]
     },
     "metadata": {},
     "output_type": "display_data"
    }
   ],
   "source": [
    "fig = plt.figure()\n",
    "x = [100,200,300]\n",
    "y_tr = [0.0010,0.0012,0.0016];\n",
    "y_ts = [0.0044,0.0087,0.0071];\n",
    "plt_knn.plot(x, y_tr)\n",
    "plt_knn.plot(x, y_ts)\n",
    "fig.suptitle('KNN')\n",
    "plt_knn.show()"
   ]
  },
  {
   "cell_type": "code",
   "execution_count": 74,
   "metadata": {},
   "outputs": [
    {
     "data": {
      "image/png": "[encoded data removed]",
      "text/plain": [
       "<matplotlib.figure.Figure at 0x11445fdd0>"
      ]
     },
     "metadata": {},
     "output_type": "display_data"
    }
   ],
   "source": [
    "fig = plt.figure()\n",
    "x = [100,200,300]\n",
    "y_tr = [0.0021,0.0058,0.0075];\n",
    "y_ts = [0.0006,0.0021,0.0005];\n",
    "plt_lr.plot(x, y_tr)\n",
    "plt_lr.plot(x, y_ts)\n",
    "fig.suptitle('Logistic Regression')\n",
    "plt_lr.show()"
   ]
  },
  {
   "cell_type": "markdown",
   "metadata": {},
   "source": [
    "## Choosing the Best Model\n",
    "In this final section, you will choose from the three supervised learning models the *best* model to use on the student data. You will then perform a grid search optimization for the model over the entire training set (`X_train` and `y_train`) by tuning at least one parameter to improve upon the untuned model's F<sub>1</sub> score. "
   ]
  },
  {
   "cell_type": "markdown",
   "metadata": {},
   "source": [
    "### Question 3 - Choosing the Best Model\n",
    "*Based on the experiments you performed earlier, in one to two paragraphs, explain to the board of supervisors what single model you chose as the best model. Which model is generally the most appropriate based on the available data, limited resources, cost, and performance?*"
   ]
  },
  {
   "cell_type": "markdown",
   "metadata": {},
   "source": [
    "**Answer: **\n",
    "I chose to go with SVM as our classifier for this project. If we compare the training times above, we see the SVM takes the longest to train (but only by a few micro-seconds), and does betetr than KNN on test times and worse than logistic regression (but again only by a few micro-seconds). So far it doesn't sound like the best option out of the aforementioned 3.\n",
    "\n",
    "But if we look at the f1 scores for training and testing, we see that even though both KNN and LR do better than SVM on the training data, they both do slightly worse than the SVM on our test data. This means that with both KNN and LR, there is a slight overfitting going on, whereas the SVM performs better on the test set than the training set, proving that it has learnt our dataset's underlying patterns without overfitting to these patterns.\n",
    "\n",
    "Across the board on all 3 training set sizes, SVM has the best scores on our test data. And therefore, it seems to be a reasonably good choice for this problem!\n",
    "\n",
    "Also, KNN and LR shine in datasets with noise, but our dataset doesn't have much noise, so their superpowers are wasted on our dataset. SVM on the other hand shines in cases with lots of features and not enough data, which is exactly the kind of dataset we have here (395 datapoints)!"
   ]
  },
  {
   "cell_type": "markdown",
   "metadata": {},
   "source": [
    "### Question 4 - Model in Layman's Terms\n",
    "*In one to two paragraphs, explain to the board of directors in layman's terms how the final model chosen is supposed to work. Be sure that you are describing the major qualities of the model, such as how the model is trained and how the model makes a prediction. Avoid using advanced mathematical or technical jargon, such as describing equations or discussing the algorithm implementation.*"
   ]
  },
  {
   "attachments": {
    "image.png": {
     "image/png": "[encoded data removed]"
    }
   },
   "cell_type": "markdown",
   "metadata": {},
   "source": [
    "**Answer: **\n",
    "Imagine we have a training dataset consisting of labeled points that belong to one of two different classes - need intervention, and don't.\n",
    "\n",
    "SVM essentially finds the line that best separates our dataset of students into these two classes, while committing the least to existing data. For e.g.\n",
    "\n",
    "![img1.png](attachment:image.png)\n",
    "\n",
    "There can be many different lines that separate our data into the 2 classes, so to find the best fit line out of all possible lines that separate our data, SVM picks a line that is not too close to the training points because a line like this would be susceptible to fitting the noise in the data, and thus might not generalize. The SVM seeks to find a line as far from the points in our dataset as possible, and so it maximizes the \"margin\" (i.e. the distance) between the separating best-fit line and the nearest points of the dataset. By only choosing to be influenced by points near the best fit line (for some definition of \"near\"), the SVM ignores outliers, ensures robustness, and doesn't overfit.\n",
    "\n",
    "\n",
    "<img src=\"img2.png\">\n",
    "\n",
    "\n",
    "The SVM works even if the data is spread across different shapes for e.g. in circular patterns.\n",
    "\n",
    "<img src=\"img3.png\">\n",
    "\n",
    "\n",
    "In conclusion, SVM is great for cases with complicated domains and lots of functions, with a clear marginal separation, and it is quite resistant to overfitting. It's not so great with large datasets with tons of noise!"
   ]
  },
  {
   "cell_type": "markdown",
   "metadata": {},
   "source": [
    "### Implementation: Model Tuning\n",
    "Fine tune the chosen model. Use grid search (`GridSearchCV`) with at least one important parameter tuned with at least 3 different values. You will need to use the entire training set for this. In the code cell below, you will need to implement the following:\n",
    "- Import [`sklearn.grid_search.GridSearchCV`](http://scikit-learn.org/0.17/modules/generated/sklearn.grid_search.GridSearchCV.html) and [`sklearn.metrics.make_scorer`](http://scikit-learn.org/stable/modules/generated/sklearn.metrics.make_scorer.html).\n",
    "- Create a dictionary of parameters you wish to tune for the chosen model.\n",
    " - Example: `parameters = {'parameter' : [list of values]}`.\n",
    "- Initialize the classifier you've chosen and store it in `clf`.\n",
    "- Create the F<sub>1</sub> scoring function using `make_scorer` and store it in `f1_scorer`.\n",
    " - Set the `pos_label` parameter to the correct value!\n",
    "- Perform grid search on the classifier `clf` using `f1_scorer` as the scoring method, and store it in `grid_obj`.\n",
    "- Fit the grid search object to the training data (`X_train`, `y_train`), and store it in `grid_obj`."
   ]
  },
  {
   "cell_type": "code",
   "execution_count": 75,
   "metadata": {},
   "outputs": [
    {
     "name": "stdout",
     "output_type": "stream",
     "text": [
      "Initializing Classifier...\n",
      "Making a Scorer...\n",
      "Performing GridSearch...\n",
      "Fitting...\n",
      "Getting Estimator...\n",
      "Best params: {'kernel': 'rbf', 'C': 10, 'gamma': 0.001}\n",
      "All Done!\n",
      "Made predictions in 0.0056 seconds.\n",
      "Tuned model has a training F1 score of 0.8170.\n",
      "Made predictions in 0.0018 seconds.\n",
      "Tuned model has a testing F1 score of 0.8553.\n"
     ]
    },
    {
     "data": {
      "text/plain": [
       "\"\\nGetting Estimator...\\nBest params: {'kernel': 'rbf', 'C': 10, 'gamma': 0.001}\\nAll Done!\\nMade predictions in 0.0069 seconds.\\nTuned model has a training F1 score of 0.8170.\\nMade predictions in 0.0024 seconds.\\nTuned model has a testing F1 score of 0.8553.\\n\""
      ]
     },
     "execution_count": 75,
     "metadata": {},
     "output_type": "execute_result"
    }
   ],
   "source": [
    "# TODO: Import 'GridSearchCV' and 'make_scorer'\n",
    "from sklearn.svm import SVC\n",
    "from sklearn.model_selection import GridSearchCV\n",
    "from sklearn.metrics import make_scorer\n",
    "import numpy as np\n",
    "\n",
    "# TODO: Create the parameters list you wish to tune\n",
    "# \", 'poly', 'sigmoid'\"\n",
    "kernel_values = ('linear', 'rbf')\n",
    "C_range = (0.001, 0.01, 1, 10, 20, 50, 100, 200)\n",
    "gamma_range = (1, 0.1, 0.01, 0.001, 0.0001)\n",
    "\n",
    "# C_range = [1, 10]\n",
    "# gamma_range = [0.1, 1]\n",
    "parameters = dict(kernel=kernel_values,gamma=gamma_range, C=C_range)\n",
    "\n",
    "print (\"Initializing Classifier...\")\n",
    "# TODO: Initialize the classifier\n",
    "clf = SVC()\n",
    "\n",
    "print (\"Making a Scorer...\")\n",
    "# TODO: Make an f1 scoring function using 'make_scorer' \n",
    "f1_scorer = make_scorer(f1_score, pos_label=\"yes\")\n",
    "\n",
    "print (\"Performing GridSearch...\")\n",
    "# TODO: Perform grid search on the classifier using the f1_scorer as the scoring method\n",
    "grid_obj = GridSearchCV(clf, parameters, f1_scorer)\n",
    "\n",
    "print (\"Fitting...\")\n",
    "# TODO: Fit the grid search object to the training data and find the optimal parameters\n",
    "grid_obj = grid_obj.fit(X_train, y_train)\n",
    "\n",
    "print (\"Getting Estimator...\")\n",
    "# Get the estimator\n",
    "clf = grid_obj.best_estimator_\n",
    "\n",
    "print \"Best params: {}\".format(grid_obj.best_params_)\n",
    "\n",
    "print (\"All Done!\")\n",
    "# Report the final F1 score for training and testing after parameter tuning\n",
    "print \"Tuned model has a training F1 score of {:.4f}.\".format(predict_labels(clf, X_train, y_train))\n",
    "print \"Tuned model has a testing F1 score of {:.4f}.\".format(predict_labels(clf, X_test, y_test))\n",
    "\n",
    "'''\n",
    "Getting Estimator...\n",
    "Best params: {'kernel': 'rbf', 'C': 10, 'gamma': 0.001}\n",
    "All Done!\n",
    "Made predictions in 0.0069 seconds.\n",
    "Tuned model has a training F1 score of 0.8170.\n",
    "Made predictions in 0.0024 seconds.\n",
    "Tuned model has a testing F1 score of 0.8553.\n",
    "'''"
   ]
  },
  {
   "cell_type": "code",
   "execution_count": 79,
   "metadata": {
    "collapsed": true
   },
   "outputs": [],
   "source": [
    "# ^ takes a little bit to fit"
   ]
  },
  {
   "cell_type": "markdown",
   "metadata": {},
   "source": [
    "### Question 5 - Final F<sub>1</sub> Score\n",
    "*What is the final model's F<sub>1</sub> score for training and testing? How does that score compare to the untuned model?*"
   ]
  },
  {
   "cell_type": "markdown",
   "metadata": {},
   "source": [
    "**Answer: **\n",
    "\n",
    "Tuned model has a training F1 score of 0.8170.\n",
    "\n",
    "Tuned model has a testing F1 score of 0.8553.\n",
    "\n",
    "This is great, we know out model is not overfitting (which is an advantage when using SVMs) and yet it is able to model our features and understand the underlying patterns in our data reasonably well!"
   ]
  },
  {
   "cell_type": "markdown",
   "metadata": {},
   "source": [
    "> **Note**: Once you have completed all of the code implementations and successfully answered each question above, you may finalize your work by exporting the iPython Notebook as an HTML document. You can do this by using the menu above and navigating to  \n",
    "**File -> Download as -> HTML (.html)**. Include the finished document along with this notebook as your submission."
   ]
  }
 ],
 "metadata": {
  "anaconda-cloud": {},
  "kernelspec": {
   "display_name": "Python [default]",
   "language": "python",
   "name": "python2"
  },
  "language_info": {
   "codemirror_mode": {
    "name": "ipython",
    "version": 2
   },
   "file_extension": ".py",
   "mimetype": "text/x-python",
   "name": "python",
   "nbconvert_exporter": "python",
   "pygments_lexer": "ipython2",
   "version": "2.7.8"
  }
 },
 "nbformat": 4,
 "nbformat_minor": 1
}
